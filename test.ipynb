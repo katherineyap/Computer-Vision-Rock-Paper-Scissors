{
 "cells": [
  {
   "cell_type": "code",
   "execution_count": 14,
   "metadata": {},
   "outputs": [
    {
     "name": "stdout",
     "output_type": "stream",
     "text": [
      "1/1 [==============================] - 1s 650ms/step\n",
      "[[3.3825368e-02 7.0291274e-04 7.9349351e-01 1.7197821e-01]]\n",
      "1/1 [==============================] - 0s 35ms/step\n",
      "[[2.3223133e-07 8.3169252e-02 9.1627675e-01 5.5381900e-04]]\n",
      "1/1 [==============================] - 0s 38ms/step\n",
      "[[3.0535546e-06 1.9867009e-01 7.9916286e-01 2.1639704e-03]]\n",
      "1/1 [==============================] - 0s 33ms/step\n",
      "[[9.0821213e-06 1.6641119e-02 9.8159629e-01 1.7534117e-03]]\n",
      "1/1 [==============================] - 0s 40ms/step\n",
      "[[1.9434960e-05 1.6908454e-02 9.8075944e-01 2.3126649e-03]]\n",
      "1/1 [==============================] - 0s 34ms/step\n",
      "[[1.0104776e-06 1.1202370e-02 9.8842561e-01 3.7094162e-04]]\n",
      "1/1 [==============================] - 0s 31ms/step\n",
      "[[1.5116171e-06 8.1335157e-03 9.9152631e-01 3.3868098e-04]]\n",
      "1/1 [==============================] - 0s 34ms/step\n",
      "[[1.4992182e-06 2.0431405e-01 7.9455030e-01 1.1341133e-03]]\n",
      "1/1 [==============================] - 0s 43ms/step\n",
      "[[1.8189186e-06 6.3615628e-02 9.3562710e-01 7.5549568e-04]]\n",
      "1/1 [==============================] - 0s 62ms/step\n",
      "[[5.2064279e-06 8.7401502e-02 9.1167504e-01 9.1832067e-04]]\n",
      "1/1 [==============================] - 0s 31ms/step\n",
      "[[3.9122760e-06 6.0076904e-02 9.3914253e-01 7.7660906e-04]]\n",
      "1/1 [==============================] - 0s 41ms/step\n",
      "[[1.7444784e-06 1.9991150e-01 7.9920393e-01 8.8287698e-04]]\n",
      "1/1 [==============================] - 0s 38ms/step\n",
      "[[5.4999532e-06 1.3768464e-01 8.6111403e-01 1.1957876e-03]]\n",
      "1/1 [==============================] - 0s 40ms/step\n",
      "[[3.1236580e-06 1.1991752e-01 8.7919492e-01 8.8436739e-04]]\n",
      "1/1 [==============================] - 0s 40ms/step\n",
      "[[1.9993836e-06 3.3523366e-02 9.6585190e-01 6.2279432e-04]]\n",
      "1/1 [==============================] - 0s 36ms/step\n",
      "[[1.0275669e-05 2.7202675e-01 7.2662824e-01 1.3346295e-03]]\n",
      "1/1 [==============================] - 0s 44ms/step\n",
      "[[1.2463745e-05 9.0922780e-02 9.0731353e-01 1.7512349e-03]]\n",
      "1/1 [==============================] - 0s 35ms/step\n",
      "[[5.0320150e-06 2.3049371e-02 9.7599024e-01 9.5541653e-04]]\n",
      "1/1 [==============================] - 0s 48ms/step\n",
      "[[1.9535919e-06 1.3498415e-01 8.6436111e-01 6.5278163e-04]]\n",
      "1/1 [==============================] - 0s 40ms/step\n",
      "[[5.3023092e-07 1.5586511e-02 9.8414522e-01 2.6771694e-04]]\n"
     ]
    },
    {
     "data": {
      "text/plain": [
       "'Paper'"
      ]
     },
     "execution_count": 14,
     "metadata": {},
     "output_type": "execute_result"
    }
   ],
   "source": [
    "import cv2\n",
    "from keras.models import load_model\n",
    "import numpy as np\n",
    "model = load_model('keras_model.h5', compile=False)\n",
    "cap = cv2.VideoCapture(0)\n",
    "data = np.ndarray(shape=(1, 224, 224, 3), dtype=np.float32)\n",
    "\n",
    "while True: \n",
    "    ret, frame = cap.read()\n",
    "    resized_frame = cv2.resize(frame, (224, 224), interpolation = cv2.INTER_AREA)\n",
    "    image_np = np.array(resized_frame)\n",
    "    normalized_image = (image_np.astype(np.float32) / 127.0) - 1 # Normalize the image\n",
    "    data[0] = normalized_image\n",
    "    prediction = model.predict(data)\n",
    "    cv2.imshow('frame', frame)\n",
    "    # Press q to close the window\n",
    "    print(prediction)\n",
    "    if cv2.waitKey(1) & 0xFF == ord('q'):\n",
    "        break\n",
    "            \n",
    "# After the loop release the cap object\n",
    "cap.release()\n",
    "# Destroy all the windows\n",
    "cv2.destroyAllWindows()\n",
    "\n",
    "model_dic = {0:'Scissors', 1:'Rock',2: 'Paper', 3: 'Nothing'}\n",
    "\n",
    "def get_prediction(prediction):\n",
    "   indices = np.argmax(prediction[0])\n",
    "   user = model_dic[indices]\n",
    "   return user\n",
    "\n",
    "get_prediction(prediction)\n"
   ]
  },
  {
   "cell_type": "markdown",
   "metadata": {},
   "source": []
  },
  {
   "cell_type": "code",
   "execution_count": null,
   "metadata": {},
   "outputs": [],
   "source": []
  }
 ],
 "metadata": {
  "interpreter": {
   "hash": "848e081230937143189fbd14e8c021df6719fb6d4ceeb0338a41a1e85208ae0a"
  },
  "kernelspec": {
   "display_name": "Python 3.10.4 ('Computer_Vision')",
   "language": "python",
   "name": "python3"
  },
  "language_info": {
   "codemirror_mode": {
    "name": "ipython",
    "version": 3
   },
   "file_extension": ".py",
   "mimetype": "text/x-python",
   "name": "python",
   "nbconvert_exporter": "python",
   "pygments_lexer": "ipython3",
   "version": "3.10.4"
  },
  "orig_nbformat": 4
 },
 "nbformat": 4,
 "nbformat_minor": 2
}
